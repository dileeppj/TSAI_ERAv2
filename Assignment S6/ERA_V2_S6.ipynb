{
  "cells": [
    {
      "cell_type": "markdown",
      "metadata": {
        "id": "03Hz2hP6QXcI"
      },
      "source": [
        "# Assignment #6 [Part 2]\n",
        "#### In this assignment we are going to train the MNIST dataset and we have to achieve 99.4% validation accuracy using less than 20K parameters under 20 epochs.\n"
      ]
    },
    {
      "cell_type": "markdown",
      "metadata": {
        "id": "GZpwM8-hkwWC"
      },
      "source": [
        "### Step 1: Import the required modules"
      ]
    },
    {
      "cell_type": "code",
      "execution_count": 1,
      "metadata": {
        "colab": {
          "base_uri": "https://localhost:8080/"
        },
        "id": "0m2JWFliFfKT",
        "outputId": "2cd13d71-854e-4248-d686-2fa7086dd7db"
      },
      "outputs": [
        {
          "name": "stdout",
          "output_type": "stream",
          "text": [
            "Requirement already satisfied: torchsummary in /usr/local/lib/python3.10/dist-packages (1.5.1)\n"
          ]
        }
      ],
      "source": [
        "!pip install torchsummary\n",
        "\n",
        "import torch\n",
        "import torch.nn as nn\n",
        "import torch.nn.functional as F\n",
        "import torch.optim as optim\n",
        "from torchvision import datasets, transforms\n",
        "from torchsummary import summary"
      ]
    },
    {
      "cell_type": "markdown",
      "metadata": {
        "id": "UK0kSQinQ-UY"
      },
      "source": [
        "### Step 2: Defining the model"
      ]
    },
    {
      "cell_type": "code",
      "execution_count": 2,
      "metadata": {
        "id": "Riwvp3BeRW4l"
      },
      "outputs": [],
      "source": [
        "class Network(nn.Module):\n",
        "    def __init__(self):\n",
        "        super(Network, self).__init__()\n",
        "        self.conv1 = nn.Sequential(\n",
        "            nn.Conv2d(1, 8, 3, padding=1, bias=False),      # 28x28x1   -> 28x28x8  -> RF 3\n",
        "            nn.ReLU(),\n",
        "            nn.BatchNorm2d(8),\n",
        "\n",
        "            nn.Conv2d(8, 8, 3, padding=1, bias=False),      # 28x28x8   -> 28x28x8  -> RF 5\n",
        "            nn.ReLU(),\n",
        "            nn.BatchNorm2d(8),\n",
        "\n",
        "            nn.Conv2d(8, 8, 3, padding=1, bias=False),      # 28x28x8   -> 28x28x8  -> RF 7\n",
        "            nn.ReLU(),\n",
        "            nn.BatchNorm2d(8),\n",
        "\n",
        "            nn.MaxPool2d(2,2),                              # 28x28x8   -> 14x14x8  -> RF 8\n",
        "            nn.Dropout(0.25)\n",
        "        )\n",
        "        self.conv2 = nn.Sequential(\n",
        "            nn.Conv2d(8, 16, 3, padding=0, bias=False),     # 14x14x8   -> 12x12x16 -> RF 12\n",
        "            nn.ReLU(),\n",
        "            nn.BatchNorm2d(16),\n",
        "\n",
        "            nn.Conv2d(16, 16, 3, padding=0, bias=False),    # 12x12x16  -> 10x10x16 -> RF 16\n",
        "            nn.ReLU(),\n",
        "            nn.BatchNorm2d(16),\n",
        "\n",
        "            nn.Conv2d(16, 16, 3, padding=0, bias=False),    # 10x10x16  -> 8x8x16 -> RF 20\n",
        "            nn.ReLU(),\n",
        "            nn.BatchNorm2d(16),\n",
        "        )\n",
        "        self.conv3 = nn.Sequential(\n",
        "            nn.Conv2d(16, 16, 3, padding=0, bias=False),    # 8x8x16    -> 6x6x16   -> RF 24\n",
        "            nn.ReLU(),\n",
        "            nn.BatchNorm2d(16),\n",
        "\n",
        "            nn.Conv2d(16, 32, 3, padding=0, bias=False),    # 6x6x16    -> 4x4x32   -> RF 28\n",
        "        )\n",
        "        self.avgpool = nn.AvgPool2d(4)                      # 4x4x32    -> 1x1x32\n",
        "        self.fc = nn.Sequential(\n",
        "            nn.Linear(32, 10)\n",
        "        )\n",
        "\n",
        "    def forward(self, x):\n",
        "        x = self.conv1(x)\n",
        "        x = self.conv2(x)\n",
        "        x = self.conv3(x)\n",
        "        x = self.avgpool(x)\n",
        "        x = x.view(-1, 32)\n",
        "        x = self.fc(x)\n",
        "        x = F.log_softmax(x, dim=1)\n",
        "        return x\n"
      ]
    },
    {
      "cell_type": "markdown",
      "metadata": {
        "id": "lqsbTNHklK-5"
      },
      "source": [
        "### Step 3: View the summary of the model"
      ]
    },
    {
      "cell_type": "code",
      "execution_count": 3,
      "metadata": {
        "colab": {
          "base_uri": "https://localhost:8080/"
        },
        "id": "xdydjYTZFyi3",
        "outputId": "65bcabef-a41b-4ef7-f361-6f1da25e67e4"
      },
      "outputs": [
        {
          "name": "stdout",
          "output_type": "stream",
          "text": [
            "Using CUDA!\n",
            "----------------------------------------------------------------\n",
            "        Layer (type)               Output Shape         Param #\n",
            "================================================================\n",
            "            Conv2d-1            [-1, 8, 28, 28]              72\n",
            "              ReLU-2            [-1, 8, 28, 28]               0\n",
            "       BatchNorm2d-3            [-1, 8, 28, 28]              16\n",
            "            Conv2d-4            [-1, 8, 28, 28]             576\n",
            "              ReLU-5            [-1, 8, 28, 28]               0\n",
            "       BatchNorm2d-6            [-1, 8, 28, 28]              16\n",
            "            Conv2d-7            [-1, 8, 28, 28]             576\n",
            "              ReLU-8            [-1, 8, 28, 28]               0\n",
            "       BatchNorm2d-9            [-1, 8, 28, 28]              16\n",
            "        MaxPool2d-10            [-1, 8, 14, 14]               0\n",
            "          Dropout-11            [-1, 8, 14, 14]               0\n",
            "           Conv2d-12           [-1, 16, 12, 12]           1,152\n",
            "             ReLU-13           [-1, 16, 12, 12]               0\n",
            "      BatchNorm2d-14           [-1, 16, 12, 12]              32\n",
            "           Conv2d-15           [-1, 16, 10, 10]           2,304\n",
            "             ReLU-16           [-1, 16, 10, 10]               0\n",
            "      BatchNorm2d-17           [-1, 16, 10, 10]              32\n",
            "           Conv2d-18             [-1, 16, 8, 8]           2,304\n",
            "             ReLU-19             [-1, 16, 8, 8]               0\n",
            "      BatchNorm2d-20             [-1, 16, 8, 8]              32\n",
            "           Conv2d-21             [-1, 16, 6, 6]           2,304\n",
            "             ReLU-22             [-1, 16, 6, 6]               0\n",
            "      BatchNorm2d-23             [-1, 16, 6, 6]              32\n",
            "           Conv2d-24             [-1, 32, 4, 4]           4,608\n",
            "        AvgPool2d-25             [-1, 32, 1, 1]               0\n",
            "           Linear-26                   [-1, 10]             330\n",
            "================================================================\n",
            "Total params: 14,402\n",
            "Trainable params: 14,402\n",
            "Non-trainable params: 0\n",
            "----------------------------------------------------------------\n",
            "Input size (MB): 0.00\n",
            "Forward/backward pass size (MB): 0.58\n",
            "Params size (MB): 0.05\n",
            "Estimated Total Size (MB): 0.64\n",
            "----------------------------------------------------------------\n"
          ]
        }
      ],
      "source": [
        "# Checking if we have CUDA enabled GPU or not\n",
        "using_cuda = torch.cuda.is_available()\n",
        "print(\"Using CUDA!\" if using_cuda else \"Not using CUDA.\")\n",
        "device = torch.device(\"cuda\" if using_cuda else \"cpu\")\n",
        "\n",
        "model = Network().to(device)\n",
        "summary(model, input_size=(1, 28, 28))"
      ]
    },
    {
      "cell_type": "markdown",
      "metadata": {
        "id": "MJhvk9ucnS9E"
      },
      "source": [
        "### Step 4 : Preparing the Training and Testing Data"
      ]
    },
    {
      "cell_type": "code",
      "execution_count": 4,
      "metadata": {
        "id": "DqTWLaM5GHgH"
      },
      "outputs": [],
      "source": [
        "torch.manual_seed(1)\n",
        "batch_size = 128\n",
        "\n",
        "kwargs = {'num_workers': 1, 'pin_memory': True} if using_cuda else {}\n",
        "train_loader = torch.utils.data.DataLoader(\n",
        "    datasets.MNIST('../data', train=True, download=True,\n",
        "                    transform=transforms.Compose([\n",
        "                        transforms.ToTensor(),\n",
        "                        transforms.Normalize((0.1307,), (0.3081,))\n",
        "                    ])),\n",
        "    batch_size=batch_size, shuffle=True, **kwargs)\n",
        "test_loader = torch.utils.data.DataLoader(\n",
        "    datasets.MNIST('../data', train=False, transform=transforms.Compose([\n",
        "                        transforms.ToTensor(),\n",
        "                        transforms.Normalize((0.1307,), (0.3081,))\n",
        "                    ])),\n",
        "    batch_size=batch_size, shuffle=True, **kwargs)\n",
        "\n"
      ]
    },
    {
      "cell_type": "markdown",
      "metadata": {
        "id": "yiKf4dGfnXx3"
      },
      "source": [
        "### Step 5 : Defining Training and Testing for the model"
      ]
    },
    {
      "cell_type": "code",
      "execution_count": 5,
      "metadata": {
        "id": "8fDefDhaFlwH"
      },
      "outputs": [],
      "source": [
        "from tqdm import tqdm\n",
        "\n",
        "# Data to plot accuracy and loss graphs\n",
        "train_losses = []\n",
        "test_losses = []\n",
        "train_acc = []\n",
        "test_acc = []\n",
        "\n",
        "\n",
        "def GetCorrectPredCount(pPrediction, pLabels ):\n",
        "    return pPrediction.argmax(dim=1).eq(pLabels).sum().item()\n",
        "\n",
        "\n",
        "def train(model, device, train_loader, optimizer, criterion):\n",
        "    model.train()\n",
        "    pbar = tqdm(train_loader)\n",
        "\n",
        "    train_loss = 0\n",
        "    correct = 0\n",
        "    processed = 0\n",
        "\n",
        "    for batch_idx, (data, target) in enumerate(pbar):\n",
        "        data, target = data.to(device), target.to(device)\n",
        "        optimizer.zero_grad()\n",
        "\n",
        "        # Predict\n",
        "        pred = model(data)  # Pass Batch\n",
        "\n",
        "        # Calculate loss\n",
        "        loss = criterion(pred, target)\n",
        "        train_loss+=loss.item()\n",
        "\n",
        "        # Backpropagation\n",
        "        loss.backward()     # Calculate Gradients\n",
        "        optimizer.step()    # Update Weights\n",
        "\n",
        "        correct += GetCorrectPredCount(pred, target)\n",
        "        processed += len(data)\n",
        "\n",
        "        pbar.set_description(desc= f'Train: Loss={loss.item():0.4f} Batch_id={batch_idx} Accuracy={100*correct/processed:0.2f}')\n",
        "\n",
        "    train_acc.append(100*correct/processed)\n",
        "    train_losses.append(train_loss/len(train_loader))\n",
        "\n",
        "\n",
        "def test(model, device, test_loader, criterion):\n",
        "    model.eval()\n",
        "\n",
        "    test_loss = 0\n",
        "    correct = 0\n",
        "\n",
        "    with torch.no_grad():\n",
        "        for data, target in test_loader:\n",
        "            data, target = data.to(device), target.to(device)\n",
        "\n",
        "            output = model(data)\n",
        "            test_loss += criterion(output, target, reduction='sum').item()  # sum up batch loss\n",
        "\n",
        "            correct += GetCorrectPredCount(output, target)\n",
        "\n",
        "    test_loss /= len(test_loader.dataset)\n",
        "    test_acc.append(100. * correct / len(test_loader.dataset))\n",
        "    test_losses.append(test_loss)\n",
        "\n",
        "    print('\\nTest set: Average loss: {:.4f}, Accuracy: {}/{} ({:.2f}%)\\n'.format(\n",
        "        test_loss, correct, len(test_loader.dataset),\n",
        "        100. * correct / len(test_loader.dataset)))"
      ]
    },
    {
      "cell_type": "markdown",
      "metadata": {
        "id": "ZKpXEysFnvjB"
      },
      "source": [
        "### Step 6: Train and Test the model"
      ]
    },
    {
      "cell_type": "code",
      "execution_count": 6,
      "metadata": {
        "colab": {
          "base_uri": "https://localhost:8080/"
        },
        "id": "MMWbLWO6FuHb",
        "outputId": "a11d6499-f0a3-4342-9fdb-24315fd71955"
      },
      "outputs": [
        {
          "name": "stdout",
          "output_type": "stream",
          "text": [
            "\n",
            " __________ Epoch: 1 __________\n",
            "\n"
          ]
        },
        {
          "name": "stderr",
          "output_type": "stream",
          "text": [
            "Train: Loss=0.0847 Batch_id=468 Accuracy=90.84: 100%|██████████| 469/469 [00:24<00:00, 19.54it/s]\n"
          ]
        },
        {
          "name": "stdout",
          "output_type": "stream",
          "text": [
            "\n",
            "Test set: Average loss: 0.0478, Accuracy: 9859/10000 (98.59%)\n",
            "\n",
            "\n",
            " __________ Epoch: 2 __________\n",
            "\n"
          ]
        },
        {
          "name": "stderr",
          "output_type": "stream",
          "text": [
            "Train: Loss=0.0291 Batch_id=468 Accuracy=98.10: 100%|██████████| 469/469 [00:17<00:00, 26.22it/s]\n"
          ]
        },
        {
          "name": "stdout",
          "output_type": "stream",
          "text": [
            "\n",
            "Test set: Average loss: 0.0338, Accuracy: 9892/10000 (98.92%)\n",
            "\n",
            "\n",
            " __________ Epoch: 3 __________\n",
            "\n"
          ]
        },
        {
          "name": "stderr",
          "output_type": "stream",
          "text": [
            "Train: Loss=0.0247 Batch_id=468 Accuracy=98.56: 100%|██████████| 469/469 [00:18<00:00, 24.96it/s]\n"
          ]
        },
        {
          "name": "stdout",
          "output_type": "stream",
          "text": [
            "\n",
            "Test set: Average loss: 0.0285, Accuracy: 9913/10000 (99.13%)\n",
            "\n",
            "\n",
            " __________ Epoch: 4 __________\n",
            "\n"
          ]
        },
        {
          "name": "stderr",
          "output_type": "stream",
          "text": [
            "Train: Loss=0.0188 Batch_id=468 Accuracy=98.79: 100%|██████████| 469/469 [00:17<00:00, 26.47it/s]\n"
          ]
        },
        {
          "name": "stdout",
          "output_type": "stream",
          "text": [
            "\n",
            "Test set: Average loss: 0.0325, Accuracy: 9900/10000 (99.00%)\n",
            "\n",
            "\n",
            " __________ Epoch: 5 __________\n",
            "\n"
          ]
        },
        {
          "name": "stderr",
          "output_type": "stream",
          "text": [
            "Train: Loss=0.0560 Batch_id=468 Accuracy=98.91: 100%|██████████| 469/469 [00:17<00:00, 26.47it/s]\n"
          ]
        },
        {
          "name": "stdout",
          "output_type": "stream",
          "text": [
            "\n",
            "Test set: Average loss: 0.0224, Accuracy: 9931/10000 (99.31%)\n",
            "\n",
            "\n",
            " __________ Epoch: 6 __________\n",
            "\n"
          ]
        },
        {
          "name": "stderr",
          "output_type": "stream",
          "text": [
            "Train: Loss=0.0963 Batch_id=468 Accuracy=99.04: 100%|██████████| 469/469 [00:19<00:00, 24.48it/s]\n"
          ]
        },
        {
          "name": "stdout",
          "output_type": "stream",
          "text": [
            "\n",
            "Test set: Average loss: 0.0238, Accuracy: 9929/10000 (99.29%)\n",
            "\n",
            "\n",
            " __________ Epoch: 7 __________\n",
            "\n"
          ]
        },
        {
          "name": "stderr",
          "output_type": "stream",
          "text": [
            "Train: Loss=0.0081 Batch_id=468 Accuracy=99.11: 100%|██████████| 469/469 [00:17<00:00, 26.08it/s]\n"
          ]
        },
        {
          "name": "stdout",
          "output_type": "stream",
          "text": [
            "\n",
            "Test set: Average loss: 0.0212, Accuracy: 9927/10000 (99.27%)\n",
            "\n",
            "\n",
            " __________ Epoch: 8 __________\n",
            "\n"
          ]
        },
        {
          "name": "stderr",
          "output_type": "stream",
          "text": [
            "Train: Loss=0.0063 Batch_id=468 Accuracy=99.15: 100%|██████████| 469/469 [00:17<00:00, 26.63it/s]\n"
          ]
        },
        {
          "name": "stdout",
          "output_type": "stream",
          "text": [
            "\n",
            "Test set: Average loss: 0.0221, Accuracy: 9933/10000 (99.33%)\n",
            "\n",
            "\n",
            " __________ Epoch: 9 __________\n",
            "\n"
          ]
        },
        {
          "name": "stderr",
          "output_type": "stream",
          "text": [
            "Train: Loss=0.0237 Batch_id=468 Accuracy=99.14: 100%|██████████| 469/469 [00:18<00:00, 25.06it/s]\n"
          ]
        },
        {
          "name": "stdout",
          "output_type": "stream",
          "text": [
            "\n",
            "Test set: Average loss: 0.0215, Accuracy: 9934/10000 (99.34%)\n",
            "\n",
            "\n",
            " __________ Epoch: 10 __________\n",
            "\n"
          ]
        },
        {
          "name": "stderr",
          "output_type": "stream",
          "text": [
            "Train: Loss=0.0040 Batch_id=468 Accuracy=99.25: 100%|██████████| 469/469 [00:18<00:00, 25.98it/s]\n"
          ]
        },
        {
          "name": "stdout",
          "output_type": "stream",
          "text": [
            "\n",
            "Test set: Average loss: 0.0217, Accuracy: 9926/10000 (99.26%)\n",
            "\n",
            "\n",
            " __________ Epoch: 11 __________\n",
            "\n"
          ]
        },
        {
          "name": "stderr",
          "output_type": "stream",
          "text": [
            "Train: Loss=0.0029 Batch_id=468 Accuracy=99.32: 100%|██████████| 469/469 [00:18<00:00, 26.02it/s]\n"
          ]
        },
        {
          "name": "stdout",
          "output_type": "stream",
          "text": [
            "\n",
            "Test set: Average loss: 0.0168, Accuracy: 9945/10000 (99.45%)\n",
            "\n",
            "\n",
            " __________ Epoch: 12 __________\n",
            "\n"
          ]
        },
        {
          "name": "stderr",
          "output_type": "stream",
          "text": [
            "Train: Loss=0.0085 Batch_id=468 Accuracy=99.31: 100%|██████████| 469/469 [00:18<00:00, 25.19it/s]\n"
          ]
        },
        {
          "name": "stdout",
          "output_type": "stream",
          "text": [
            "\n",
            "Test set: Average loss: 0.0199, Accuracy: 9937/10000 (99.37%)\n",
            "\n",
            "\n",
            " __________ Epoch: 13 __________\n",
            "\n"
          ]
        },
        {
          "name": "stderr",
          "output_type": "stream",
          "text": [
            "Train: Loss=0.0140 Batch_id=468 Accuracy=99.32: 100%|██████████| 469/469 [00:18<00:00, 25.97it/s]\n"
          ]
        },
        {
          "name": "stdout",
          "output_type": "stream",
          "text": [
            "\n",
            "Test set: Average loss: 0.0172, Accuracy: 9942/10000 (99.42%)\n",
            "\n",
            "\n",
            " __________ Epoch: 14 __________\n",
            "\n"
          ]
        },
        {
          "name": "stderr",
          "output_type": "stream",
          "text": [
            "Train: Loss=0.0308 Batch_id=468 Accuracy=99.36: 100%|██████████| 469/469 [00:17<00:00, 26.24it/s]\n"
          ]
        },
        {
          "name": "stdout",
          "output_type": "stream",
          "text": [
            "\n",
            "Test set: Average loss: 0.0201, Accuracy: 9939/10000 (99.39%)\n",
            "\n",
            "\n",
            " __________ Epoch: 15 __________\n",
            "\n"
          ]
        },
        {
          "name": "stderr",
          "output_type": "stream",
          "text": [
            "Train: Loss=0.0136 Batch_id=468 Accuracy=99.40: 100%|██████████| 469/469 [00:18<00:00, 24.99it/s]\n"
          ]
        },
        {
          "name": "stdout",
          "output_type": "stream",
          "text": [
            "\n",
            "Test set: Average loss: 0.0200, Accuracy: 9937/10000 (99.37%)\n",
            "\n",
            "\n",
            " __________ Epoch: 16 __________\n",
            "\n"
          ]
        },
        {
          "name": "stderr",
          "output_type": "stream",
          "text": [
            "Train: Loss=0.0017 Batch_id=468 Accuracy=99.42: 100%|██████████| 469/469 [00:18<00:00, 25.34it/s]\n"
          ]
        },
        {
          "name": "stdout",
          "output_type": "stream",
          "text": [
            "\n",
            "Test set: Average loss: 0.0179, Accuracy: 9942/10000 (99.42%)\n",
            "\n",
            "\n",
            " __________ Epoch: 17 __________\n",
            "\n"
          ]
        },
        {
          "name": "stderr",
          "output_type": "stream",
          "text": [
            "Train: Loss=0.0022 Batch_id=468 Accuracy=99.39: 100%|██████████| 469/469 [00:17<00:00, 26.25it/s]\n"
          ]
        },
        {
          "name": "stdout",
          "output_type": "stream",
          "text": [
            "\n",
            "Test set: Average loss: 0.0169, Accuracy: 9952/10000 (99.52%)\n",
            "\n",
            "\n",
            " __________ Epoch: 18 __________\n",
            "\n"
          ]
        },
        {
          "name": "stderr",
          "output_type": "stream",
          "text": [
            "Train: Loss=0.0011 Batch_id=468 Accuracy=99.43: 100%|██████████| 469/469 [00:18<00:00, 24.90it/s]\n"
          ]
        },
        {
          "name": "stdout",
          "output_type": "stream",
          "text": [
            "\n",
            "Test set: Average loss: 0.0196, Accuracy: 9945/10000 (99.45%)\n",
            "\n",
            "\n",
            " __________ Epoch: 19 __________\n",
            "\n"
          ]
        },
        {
          "name": "stderr",
          "output_type": "stream",
          "text": [
            "Train: Loss=0.0284 Batch_id=468 Accuracy=99.45: 100%|██████████| 469/469 [00:18<00:00, 24.80it/s]\n"
          ]
        },
        {
          "name": "stdout",
          "output_type": "stream",
          "text": [
            "\n",
            "Test set: Average loss: 0.0181, Accuracy: 9941/10000 (99.41%)\n",
            "\n"
          ]
        }
      ],
      "source": [
        "# initialize CNN, cost, and optimizer\n",
        "model = Network().to(device)\n",
        "optimizer = optim.SGD(model.parameters(), lr=0.01, momentum=0.9)\n",
        "# scheduler = optim.lr_scheduler.StepLR(optimizer, step_size=15, gamma=0.1, verbose=True)\n",
        "\n",
        "criterion = F.nll_loss # with log_softmax() as the last layer, this is equivalent to cross entropy loss\n",
        "num_epochs = 20\n",
        "\n",
        "for epoch in range(1, num_epochs):\n",
        "    print('\\n __________ Epoch: {} __________\\n'.format(epoch))\n",
        "    train(model, device, train_loader, optimizer, criterion)\n",
        "    test(model, device, test_loader, criterion)\n",
        "    # scheduler.step()"
      ]
    },
    {
      "cell_type": "markdown",
      "metadata": {
        "id": "T3LA4M4voT16"
      },
      "source": [
        "### Step 7 : Analyze Training, Testing Loss and Accuracy"
      ]
    },
    {
      "cell_type": "code",
      "execution_count": 7,
      "metadata": {
        "colab": {
          "base_uri": "https://localhost:8080/",
          "height": 853
        },
        "id": "V482A8KZoVcd",
        "outputId": "c2661228-4e28-4d54-83fd-fc1e4521af3d"
      },
      "outputs": [
        {
          "data": {
            "image/png": "[encoded data removed]",
            "text/plain": [
              "<Figure size 1500x1000 with 4 Axes>"
            ]
          },
          "metadata": {},
          "output_type": "display_data"
        }
      ],
      "source": [
        "def viewAnalysis(train_losses, train_acc, test_losses, test_acc):\n",
        "    import matplotlib.pyplot as plt\n",
        "\n",
        "    fig, axs = plt.subplots(2,2,figsize=(15,10))\n",
        "    axs[0, 0].plot(train_losses)\n",
        "    axs[0, 0].set_title(\"Training Loss\")\n",
        "    axs[1, 0].plot(train_acc)\n",
        "    axs[1, 0].set_title(\"Training Accuracy\")\n",
        "    axs[0, 1].plot(test_losses)\n",
        "    axs[0, 1].set_title(\"Test Loss\")\n",
        "    axs[1, 1].plot(test_acc)\n",
        "    axs[1, 1].set_title(\"Test Accuracy\")\n",
        "\n",
        "viewAnalysis(train_losses, train_acc, test_losses, test_acc)\n"
      ]
    },
    {
      "cell_type": "code",
      "execution_count": 7,
      "metadata": {
        "id": "So5uk4EkHW6R"
      },
      "outputs": [],
      "source": []
    }
  ],
  "metadata": {
    "accelerator": "GPU",
    "colab": {
      "provenance": []
    },
    "kernelspec": {
      "display_name": "Python 3",
      "name": "python3"
    }
  },
  "nbformat": 4,
  "nbformat_minor": 0
}
